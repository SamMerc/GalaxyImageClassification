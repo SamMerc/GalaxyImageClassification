{
 "cells": [
  {
   "cell_type": "code",
   "execution_count": 1,
   "metadata": {},
   "outputs": [],
   "source": [
    "import numpy as np\n",
    "from cv2 import cv2 #Use 'pip install opencv-python' to get module if you don't have it\n",
    "import glob"
   ]
  },
  {
   "cell_type": "code",
   "execution_count": 2,
   "metadata": {},
   "outputs": [],
   "source": [
    "def gettingImages(image_list):\n",
    "    i=0\n",
    "    for filename in glob.glob('/Users/mike/Desktop/GalaxyImages/images_training_rev1/*.jpg'): #assuming jpg\n",
    "        if(i >= 10):\n",
    "            return image_list\n",
    "        im=cv2.imread(filename)\n",
    "        image_list.append(im)\n",
    "        i +=1 \n",
    "    return image_list\n",
    "\n",
    "image_list = [] \n",
    "images = gettingImages(image_list)"
   ]
  },
  {
   "cell_type": "code",
   "execution_count": null,
   "metadata": {},
   "outputs": [],
   "source": []
  }
 ],
 "metadata": {
  "kernelspec": {
   "display_name": "Python 3",
   "language": "python",
   "name": "python3"
  },
  "language_info": {
   "codemirror_mode": {
    "name": "ipython",
    "version": 3
   },
   "file_extension": ".py",
   "mimetype": "text/x-python",
   "name": "python",
   "nbconvert_exporter": "python",
   "pygments_lexer": "ipython3",
   "version": "3.8.5"
  }
 },
 "nbformat": 4,
 "nbformat_minor": 4
}
